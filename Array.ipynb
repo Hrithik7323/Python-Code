{
 "cells": [
  {
   "cell_type": "code",
   "execution_count": 16,
   "id": "f84110de-6ac1-4ab4-9022-7325c89d50ff",
   "metadata": {},
   "outputs": [
    {
     "name": "stdout",
     "output_type": "stream",
     "text": [
      "[1, 2, 3, 4, 'Manish', 5, 6, 9, 8, 7, 12]\n"
     ]
    }
   ],
   "source": [
    "import numpy as np\n",
    "import array as arr\n",
    "\n",
    "l1=[1,2,3,4,\"Manish\",5,6,9,8,7]\n",
    "l1.append(12)\n",
    "print(l1)"
   ]
  },
  {
   "cell_type": "code",
   "execution_count": 12,
   "id": "3fabc63f-d35f-4787-b937-70bb814a0866",
   "metadata": {},
   "outputs": [
    {
     "name": "stdout",
     "output_type": "stream",
     "text": [
      "array('i', [1, 2, 3, 6, 5, 4])\n"
     ]
    }
   ],
   "source": [
    "arr1=arr.array('i',[1,2,3,6,5,4])\n",
    "print(arr1)"
   ]
  },
  {
   "cell_type": "code",
   "execution_count": 18,
   "id": "3ddfa3e5-f3e3-466e-95af-7f5f9717c77e",
   "metadata": {},
   "outputs": [
    {
     "name": "stdout",
     "output_type": "stream",
     "text": [
      "[ 2  4  6 12 10  8]\n",
      "[ 6  7  8 11 10  9]\n"
     ]
    }
   ],
   "source": [
    "arr=np.array([1,2,3,6,5,4],int)\n",
    "print(arr*2)\n",
    "print(arr+5)"
   ]
  },
  {
   "cell_type": "code",
   "execution_count": 24,
   "id": "d6d29b05-8422-4622-9742-c4066a5321c6",
   "metadata": {},
   "outputs": [
    {
     "name": "stdout",
     "output_type": "stream",
     "text": [
      "21\n"
     ]
    }
   ],
   "source": [
    "#####  ================= 1D array  ==================\n",
    "\n",
    "import numpy as np\n",
    "arr1 = np.array([1, 2, 3, 4, 5, 6])\n",
    "sum = np.sum(arr1)\n",
    "print(sum)"
   ]
  },
  {
   "cell_type": "code",
   "execution_count": 43,
   "id": "2840911f-f5d9-402b-b558-cb6527efbb0d",
   "metadata": {},
   "outputs": [
    {
     "name": "stdout",
     "output_type": "stream",
     "text": [
      "[[1 2 3]\n",
      " [4 5 6]\n",
      " [7 8 9]]\n",
      "9\n",
      "(3, 3)\n"
     ]
    }
   ],
   "source": [
    "#####  ================= 2D array  ==================\n",
    "\n",
    "import numpy as np\n",
    "import array as arr\n",
    "array_2d=np.array([[1,2,3],\n",
    "                   [4,5,6],\n",
    "                   [7,8,9]]) \n",
    "print(array_2d)\n",
    "#print(array_2d[1,2])\n",
    "print(array_2d[2,2])\n",
    "print(array_2d.shape)\n"
   ]
  },
  {
   "cell_type": "code",
   "execution_count": 97,
   "id": "d15e8c13-c5b5-4795-95a7-b984e33343f9",
   "metadata": {},
   "outputs": [
    {
     "name": "stdout",
     "output_type": "stream",
     "text": [
      "[ 2  5  8 23]\n",
      "-----------------------------------\n",
      "[1 2 3]\n",
      "------------------------------------\n",
      "[[ 1  2  3]\n",
      " [ 4  5  6]\n",
      " [ 7  8  9]\n",
      " [ 7 23 15]]\n",
      "-----------------------------------\n",
      "[[1 3]\n",
      " [7 9]]\n",
      "-----------------------------------\n",
      "[ 3  6  9 15]\n",
      "-----------------------------------\n",
      "(4, 3)\n",
      "-----------------------------------\n",
      "4\n",
      "-----------------------------------\n",
      "3 2\n",
      "------------------------------------\n",
      "16\n"
     ]
    }
   ],
   "source": [
    "#########===========  Slicing ==========\n",
    "\n",
    "array_2d=np.array([[1,2,3],\n",
    "                   [4,5,6],\n",
    "                   [7,8,9],\n",
    "                   [7,23,15]]) \n",
    "print(array_2d[:,1])  #col\n",
    "print(\"-----------------------------------\")\n",
    "print(array_2d[0,:])  #row\n",
    "print(\"------------------------------------\")\n",
    "print(array_2d[:])\n",
    "print(\"-----------------------------------\")\n",
    "# print(array_2d[::3,:])\n",
    "print(array_2d[::2,::2])\n",
    "print(\"-----------------------------------\")\n",
    "print(array_2d[:,-1])\n",
    "print(\"-----------------------------------\")\n",
    "print(array_2d.shape)\n",
    "print(\"-----------------------------------\")\n",
    "# reshape=array_2d.reshape(3,12)\n",
    "# reshape=array_2d.reshape(3,4)\n",
    "# reshape=array_2d.reshape(4,4)\n",
    "# print(reshape)\n",
    "print(len(array_2d)) \n",
    "print(\"-----------------------------------\")\n",
    "# print(len(array_2d[3]))\n",
    "\n",
    "row_len=len(array_2d)\n",
    "col_len=len(array_2d[3])\n",
    "print(row_len-1,col_len-1)\n",
    "print(\"------------------------------------\")\n",
    "print(array_2d[0,0]+array_2d[row_len-1,col_len-1])\n"
   ]
  },
  {
   "cell_type": "code",
   "execution_count": 99,
   "id": "fbbb78e9-9b44-4242-b806-d33290d40e13",
   "metadata": {},
   "outputs": [
    {
     "name": "stdout",
     "output_type": "stream",
     "text": [
      "[[[ 1  2  3]\n",
      "  [ 4  5  6]\n",
      "  [ 8  9  7]\n",
      "  [ 7  8  9]\n",
      "  [78 89 45]\n",
      "  [54 65 21]]]\n",
      "3\n",
      "(1, 6, 3)\n"
     ]
    }
   ],
   "source": [
    "arr_3d=np.array([[[1,2,3],\n",
    "                  [4,5,6],\n",
    "                  [8,9,7],\n",
    "                  [7,8,9],\n",
    "                  [78,89,45],\n",
    "                  [54,65,21]]])\n",
    "print(arr_3d)\n",
    "print(arr_3d.ndim)\n",
    "print(arr_3d.shape)\n"
   ]
  },
  {
   "cell_type": "code",
   "execution_count": 101,
   "id": "7120a613-0eb7-4588-a7de-74e0f5d7e956",
   "metadata": {},
   "outputs": [
    {
     "name": "stdout",
     "output_type": "stream",
     "text": [
      "[[[ 1  2  3]\n",
      "  [ 4  5  6]\n",
      "  [ 8  9  7]]\n",
      "\n",
      " [[ 7  8  9]\n",
      "  [78 89 45]\n",
      "  [54 65 21]]]\n",
      "3\n",
      "(2, 3, 3)\n"
     ]
    }
   ],
   "source": [
    "arr_3d=np.array([[[1,2,3],[4,5,6],[8,9,7]],\n",
    "                 [[7,8,9],[78,89,45],[54,65,21]]])\n",
    "print(arr_3d)\n",
    "print(arr_3d.ndim)\n",
    "print(arr_3d.shape)"
   ]
  },
  {
   "cell_type": "code",
   "execution_count": null,
   "id": "7036ea0b-2411-4d70-bcf1-90f372466359",
   "metadata": {},
   "outputs": [],
   "source": []
  }
 ],
 "metadata": {
  "kernelspec": {
   "display_name": "Python 3 (ipykernel)",
   "language": "python",
   "name": "python3"
  },
  "language_info": {
   "codemirror_mode": {
    "name": "ipython",
    "version": 3
   },
   "file_extension": ".py",
   "mimetype": "text/x-python",
   "name": "python",
   "nbconvert_exporter": "python",
   "pygments_lexer": "ipython3",
   "version": "3.12.7"
  }
 },
 "nbformat": 4,
 "nbformat_minor": 5
}
